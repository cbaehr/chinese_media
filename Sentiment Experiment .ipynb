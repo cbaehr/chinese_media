{
 "cells": [
  {
   "cell_type": "code",
   "execution_count": 26,
   "metadata": {
    "collapsed": true
   },
   "outputs": [],
   "source": [
    "from snownlp import SnowNLP\n",
    "import pandas as pd\n",
    "import matplotlib.pyplot as plt\n",
    "import numpy as np"
   ]
  },
  {
   "cell_type": "code",
   "execution_count": 45,
   "metadata": {
    "collapsed": true
   },
   "outputs": [],
   "source": [
    "x_trade = pd.read_excel(\"/Users/martin/Desktop/lab/xiake_trade.xlsx\",encoding=\"gbk\") \n",
    "b_trade = pd.read_excel(\"/Users/martin/Desktop/lab/bull_trade.xlsx\",encoding=\"gbk\") "
   ]
  },
  {
   "cell_type": "code",
   "execution_count": 3,
   "metadata": {},
   "outputs": [
    {
     "data": {
      "text/html": [
       "<div>\n",
       "<style scoped>\n",
       "    .dataframe tbody tr th:only-of-type {\n",
       "        vertical-align: middle;\n",
       "    }\n",
       "\n",
       "    .dataframe tbody tr th {\n",
       "        vertical-align: top;\n",
       "    }\n",
       "\n",
       "    .dataframe thead th {\n",
       "        text-align: right;\n",
       "    }\n",
       "</style>\n",
       "<table border=\"1\" class=\"dataframe\">\n",
       "  <thead>\n",
       "    <tr style=\"text-align: right;\">\n",
       "      <th></th>\n",
       "      <th>title</th>\n",
       "      <th>date_published</th>\n",
       "      <th>text</th>\n",
       "    </tr>\n",
       "  </thead>\n",
       "  <tbody>\n",
       "    <tr>\n",
       "      <th>0</th>\n",
       "      <td>我这有个一带一路，特朗普你考虑考虑？</td>\n",
       "      <td>2017-04-05</td>\n",
       "      <td>习主席即将开启访美之行。说实话，中美双方这么快就实现元首访问，速度应该是超出了很多人的预期。...</td>\n",
       "    </tr>\n",
       "    <tr>\n",
       "      <th>1</th>\n",
       "      <td>首次习特会，这四字最为要害</td>\n",
       "      <td>2017-04-09</td>\n",
       "      <td>中美两国国家元首在“海湖庄园”进行的会晤，恐怕是这几天地球上最抓眼球的事情之一（另一件则是会...</td>\n",
       "    </tr>\n",
       "    <tr>\n",
       "      <th>2</th>\n",
       "      <td>昨天结束的这件事，足以写入中美历史</td>\n",
       "      <td>2017-06-23</td>\n",
       "      <td>当地时间21日，中美双方在华盛顿举行了首轮外交安全对话。 今年4月，在海湖庄园峰会上，习近平...</td>\n",
       "    </tr>\n",
       "    <tr>\n",
       "      <th>3</th>\n",
       "      <td>中美首轮全面经济对话，外媒居然说“谈崩了”？</td>\n",
       "      <td>2017-07-21</td>\n",
       "      <td>昨天晚上，岛叔的不少微信群里开始流传一幅截图，说“刚刚”！因美方不满意首轮中美全面经济对话，...</td>\n",
       "    </tr>\n",
       "    <tr>\n",
       "      <th>4</th>\n",
       "      <td>这一次，美国真的要向中国“开战”？</td>\n",
       "      <td>2017-08-15</td>\n",
       "      <td>北京时间的今天，特朗普终于签下行政令，责成美国贸易代表对中国的“不公平贸易行为”发起调查，也...</td>\n",
       "    </tr>\n",
       "  </tbody>\n",
       "</table>\n",
       "</div>"
      ],
      "text/plain": [
       "                    title date_published  \\\n",
       "0      我这有个一带一路，特朗普你考虑考虑？     2017-04-05   \n",
       "1           首次习特会，这四字最为要害     2017-04-09   \n",
       "2       昨天结束的这件事，足以写入中美历史     2017-06-23   \n",
       "3  中美首轮全面经济对话，外媒居然说“谈崩了”？     2017-07-21   \n",
       "4       这一次，美国真的要向中国“开战”？     2017-08-15   \n",
       "\n",
       "                                                text  \n",
       "0  习主席即将开启访美之行。说实话，中美双方这么快就实现元首访问，速度应该是超出了很多人的预期。...  \n",
       "1  中美两国国家元首在“海湖庄园”进行的会晤，恐怕是这几天地球上最抓眼球的事情之一（另一件则是会...  \n",
       "2  当地时间21日，中美双方在华盛顿举行了首轮外交安全对话。 今年4月，在海湖庄园峰会上，习近平...  \n",
       "3  昨天晚上，岛叔的不少微信群里开始流传一幅截图，说“刚刚”！因美方不满意首轮中美全面经济对话，...  \n",
       "4  北京时间的今天，特朗普终于签下行政令，责成美国贸易代表对中国的“不公平贸易行为”发起调查，也...  "
      ]
     },
     "execution_count": 3,
     "metadata": {},
     "output_type": "execute_result"
    }
   ],
   "source": [
    "x_trade.head()"
   ]
  },
  {
   "cell_type": "code",
   "execution_count": 49,
   "metadata": {},
   "outputs": [],
   "source": [
    "b_trade = b_trade.sort_values(by='date_published')"
   ]
  },
  {
   "cell_type": "code",
   "execution_count": 44,
   "metadata": {},
   "outputs": [
    {
     "data": {
      "text/plain": [
       "58"
      ]
     },
     "execution_count": 44,
     "metadata": {},
     "output_type": "execute_result"
    }
   ],
   "source": [
    "x_trade.shape[0]"
   ]
  },
  {
   "cell_type": "code",
   "execution_count": 58,
   "metadata": {},
   "outputs": [],
   "source": [
    "#Create an empty list to store sentiment of each xiake article\n",
    "sentiment = [None]*58\n",
    "\n",
    "for i in range(x_trade.shape[0]):\n",
    "    s = SnowNLP(x_trade.text.iloc[i])\n",
    "    a = 0 \n",
    "    b = 0\n",
    "    #use this for loop to calcualte the sentiment of each sentences in the article\n",
    "    for j in range(len(s.sentences)):\n",
    "        k=SnowNLP(s.sentences[j])\n",
    "        a+=k.sentiments\n",
    "        b = a/len(s.sentences)   \n",
    "    sentiment[i]=b"
   ]
  },
  {
   "cell_type": "code",
   "execution_count": 53,
   "metadata": {},
   "outputs": [],
   "source": [
    "#Create an empty list to store sentiment of each bull piano article\n",
    "b_sentiment = [None]*(b_trade.shape[0])\n",
    "\n",
    "for i in range(b_trade.shape[0]):\n",
    "    s = SnowNLP(b_trade.text.iloc[i])\n",
    "    c = 0 \n",
    "    d = 0\n",
    "    #use this for loop to calcualte the sentiment of each sentences in the article\n",
    "    for j in range(len(s.sentences)):\n",
    "        q=SnowNLP(s.sentences[j])\n",
    "        c+=q.sentiments\n",
    "        d = c/len(s.sentences)   \n",
    "    b_sentiment[i]=d"
   ]
  },
  {
   "cell_type": "code",
   "execution_count": 59,
   "metadata": {},
   "outputs": [
    {
     "data": {
      "image/png": "[encoded data removed]",
      "text/plain": [
       "<Figure size 432x288 with 1 Axes>"
      ]
     },
     "metadata": {},
     "output_type": "display_data"
    }
   ],
   "source": [
    "#Plot the sentiment over time by bar chart\n",
    "sentiment1= np.array(sentiment)\n",
    "sentiment2 = np.array(b_sentiment)\n",
    "plt.bar(x_trade.date_published,sentiment1)\n",
    "plt.show()"
   ]
  },
  {
   "cell_type": "code",
   "execution_count": 60,
   "metadata": {},
   "outputs": [
    {
     "data": {
      "image/png": "[encoded data removed]",
      "text/plain": [
       "<Figure size 432x288 with 1 Axes>"
      ]
     },
     "metadata": {},
     "output_type": "display_data"
    }
   ],
   "source": [
    "#A line plot\n",
    "plt.plot(x_trade.date_published,sentiment1,label='xiake')\n",
    "plt.plot(b_trade.date_published,sentiment2,label='bull piano')\n",
    "plt.legend()\n",
    "plt.show()"
   ]
  },
  {
   "cell_type": "code",
   "execution_count": null,
   "metadata": {
    "collapsed": true
   },
   "outputs": [],
   "source": []
  }
 ],
 "metadata": {
  "kernelspec": {
   "display_name": "Python 3",
   "language": "python",
   "name": "python3"
  },
  "language_info": {
   "codemirror_mode": {
    "name": "ipython",
    "version": 3
   },
   "file_extension": ".py",
   "mimetype": "text/x-python",
   "name": "python",
   "nbconvert_exporter": "python",
   "pygments_lexer": "ipython3",
   "version": "3.6.8"
  }
 },
 "nbformat": 4,
 "nbformat_minor": 2
}
