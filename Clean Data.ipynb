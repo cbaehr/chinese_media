{
 "cells": [
  {
   "cell_type": "code",
   "execution_count": 5,
   "metadata": {
    "collapsed": true
   },
   "outputs": [],
   "source": [
    "import pandas as pd"
   ]
  },
  {
   "cell_type": "code",
   "execution_count": 6,
   "metadata": {},
   "outputs": [],
   "source": [
    "bull = pd.read_excel(\"/Users/martin/Desktop/lab/bull_nk.xlsx\",encoding=\"gbk\")"
   ]
  },
  {
   "cell_type": "code",
   "execution_count": 7,
   "metadata": {},
   "outputs": [
    {
     "data": {
      "text/html": [
       "<div>\n",
       "<style scoped>\n",
       "    .dataframe tbody tr th:only-of-type {\n",
       "        vertical-align: middle;\n",
       "    }\n",
       "\n",
       "    .dataframe tbody tr th {\n",
       "        vertical-align: top;\n",
       "    }\n",
       "\n",
       "    .dataframe thead th {\n",
       "        text-align: right;\n",
       "    }\n",
       "</style>\n",
       "<table border=\"1\" class=\"dataframe\">\n",
       "  <thead>\n",
       "    <tr style=\"text-align: right;\">\n",
       "      <th></th>\n",
       "      <th>title</th>\n",
       "      <th>date_published</th>\n",
       "      <th>text</th>\n",
       "    </tr>\n",
       "  </thead>\n",
       "  <tbody>\n",
       "    <tr>\n",
       "      <th>0</th>\n",
       "      <td>刚刚，美国突然松口，萨德问题要反转了</td>\n",
       "      <td>2017-04-16</td>\n",
       "      <td>萨德，毫无疑问，是美国打入东北亚的一个楔子，也让中韩关系全面恶化。但在朝鲜半岛局势波诡云谲之...</td>\n",
       "    </tr>\n",
       "    <tr>\n",
       "      <th>1</th>\n",
       "      <td>刚刚，特朗普犯了一个致命的错误\\n\\n</td>\n",
       "      <td>2017-04-21</td>\n",
       "      <td>气势汹汹的航母威胁，最后却变成了一场国际大乌龙。一个星期后，世界才发现：特朗普派往朝鲜的卡尔...</td>\n",
       "    </tr>\n",
       "    <tr>\n",
       "      <th>2</th>\n",
       "      <td>就在这个月，世界格局发生了重大深远的变化</td>\n",
       "      <td>2017-04-25</td>\n",
       "      <td>（一）就在这个四月，世界格局发生了重大深远变化。特朗普也突然变得非常可爱了。转折点，就是本月...</td>\n",
       "    </tr>\n",
       "    <tr>\n",
       "      <th>3</th>\n",
       "      <td>从这两件事情看，特朗普正变得越来越可爱</td>\n",
       "      <td>2017-04-28</td>\n",
       "      <td>（一）最近几天，感觉特朗普越来越可爱了。在涉及中国的问题上，虽然也不乏各种小动作，有各种小心...</td>\n",
       "    </tr>\n",
       "    <tr>\n",
       "      <th>4</th>\n",
       "      <td>真相让人大吃一惊，萨德问题背后果然隐藏着太多猫腻</td>\n",
       "      <td>2017-05-30</td>\n",
       "      <td>萨德问题，是最近两年中韩关系直转之下的最重要原因。种种迹象表明，事情越来越不简单，萨德入韩背...</td>\n",
       "    </tr>\n",
       "  </tbody>\n",
       "</table>\n",
       "</div>"
      ],
      "text/plain": [
       "                      title date_published  \\\n",
       "0        刚刚，美国突然松口，萨德问题要反转了     2017-04-16   \n",
       "1       刚刚，特朗普犯了一个致命的错误\\n\\n     2017-04-21   \n",
       "2      就在这个月，世界格局发生了重大深远的变化     2017-04-25   \n",
       "3       从这两件事情看，特朗普正变得越来越可爱     2017-04-28   \n",
       "4  真相让人大吃一惊，萨德问题背后果然隐藏着太多猫腻     2017-05-30   \n",
       "\n",
       "                                                text  \n",
       "0  萨德，毫无疑问，是美国打入东北亚的一个楔子，也让中韩关系全面恶化。但在朝鲜半岛局势波诡云谲之...  \n",
       "1  气势汹汹的航母威胁，最后却变成了一场国际大乌龙。一个星期后，世界才发现：特朗普派往朝鲜的卡尔...  \n",
       "2  （一）就在这个四月，世界格局发生了重大深远变化。特朗普也突然变得非常可爱了。转折点，就是本月...  \n",
       "3  （一）最近几天，感觉特朗普越来越可爱了。在涉及中国的问题上，虽然也不乏各种小动作，有各种小心...  \n",
       "4  萨德问题，是最近两年中韩关系直转之下的最重要原因。种种迹象表明，事情越来越不简单，萨德入韩背...  "
      ]
     },
     "execution_count": 7,
     "metadata": {},
     "output_type": "execute_result"
    }
   ],
   "source": [
    "bull.head()"
   ]
  },
  {
   "cell_type": "markdown",
   "metadata": {},
   "source": [
    "The block below is used to replace extra words in the main text of articles as the web scrapping will contain some unnesscary words. Put the word that wants to be replaced after to_replace = and put the word that will replace the original word after value = . Put an r before the ''and the ''contains the targeted word. "
   ]
  },
  {
   "cell_type": "code",
   "execution_count": 10,
   "metadata": {},
   "outputs": [],
   "source": [
    "bull['text'].replace(regex=True,inplace=True,to_replace=r'\\n',value=r'')\n",
    "bull['text'].replace(regex=True,inplace=True,to_replace=r'长按二维码向我转账',value=r'')"
   ]
  }
 ],
 "metadata": {
  "kernelspec": {
   "display_name": "Python 3",
   "language": "python",
   "name": "python3"
  },
  "language_info": {
   "codemirror_mode": {
    "name": "ipython",
    "version": 3
   },
   "file_extension": ".py",
   "mimetype": "text/x-python",
   "name": "python",
   "nbconvert_exporter": "python",
   "pygments_lexer": "ipython3",
   "version": "3.6.8"
  }
 },
 "nbformat": 4,
 "nbformat_minor": 2
}
